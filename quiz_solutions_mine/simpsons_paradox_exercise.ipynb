{
 "cells": [
  {
   "cell_type": "markdown",
   "metadata": {
    "collapsed": true
   },
   "source": [
    "# Simpson's Paradox\n",
    "Use `admission_data.csv` for this exercise."
   ]
  },
  {
   "cell_type": "code",
   "execution_count": 95,
   "metadata": {},
   "outputs": [],
   "source": [
    "# Load and view first few lines of dataset\n",
    "import pandas as pd\n",
    "import numpy as np"
   ]
  },
  {
   "cell_type": "code",
   "execution_count": 96,
   "metadata": {},
   "outputs": [],
   "source": [
    "df =pd.read_csv('admission_data.csv')"
   ]
  },
  {
   "cell_type": "code",
   "execution_count": 97,
   "metadata": {},
   "outputs": [
    {
     "data": {
      "text/html": [
       "<div>\n",
       "<style scoped>\n",
       "    .dataframe tbody tr th:only-of-type {\n",
       "        vertical-align: middle;\n",
       "    }\n",
       "\n",
       "    .dataframe tbody tr th {\n",
       "        vertical-align: top;\n",
       "    }\n",
       "\n",
       "    .dataframe thead th {\n",
       "        text-align: right;\n",
       "    }\n",
       "</style>\n",
       "<table border=\"1\" class=\"dataframe\">\n",
       "  <thead>\n",
       "    <tr style=\"text-align: right;\">\n",
       "      <th></th>\n",
       "      <th>student_id</th>\n",
       "      <th>gender</th>\n",
       "      <th>major</th>\n",
       "      <th>admitted</th>\n",
       "    </tr>\n",
       "  </thead>\n",
       "  <tbody>\n",
       "    <tr>\n",
       "      <th>0</th>\n",
       "      <td>35377</td>\n",
       "      <td>female</td>\n",
       "      <td>Chemistry</td>\n",
       "      <td>False</td>\n",
       "    </tr>\n",
       "    <tr>\n",
       "      <th>1</th>\n",
       "      <td>56105</td>\n",
       "      <td>male</td>\n",
       "      <td>Physics</td>\n",
       "      <td>True</td>\n",
       "    </tr>\n",
       "    <tr>\n",
       "      <th>2</th>\n",
       "      <td>31441</td>\n",
       "      <td>female</td>\n",
       "      <td>Chemistry</td>\n",
       "      <td>False</td>\n",
       "    </tr>\n",
       "    <tr>\n",
       "      <th>3</th>\n",
       "      <td>51765</td>\n",
       "      <td>male</td>\n",
       "      <td>Physics</td>\n",
       "      <td>True</td>\n",
       "    </tr>\n",
       "    <tr>\n",
       "      <th>4</th>\n",
       "      <td>53714</td>\n",
       "      <td>female</td>\n",
       "      <td>Physics</td>\n",
       "      <td>True</td>\n",
       "    </tr>\n",
       "  </tbody>\n",
       "</table>\n",
       "</div>"
      ],
      "text/plain": [
       "   student_id  gender      major  admitted\n",
       "0       35377  female  Chemistry     False\n",
       "1       56105    male    Physics      True\n",
       "2       31441  female  Chemistry     False\n",
       "3       51765    male    Physics      True\n",
       "4       53714  female    Physics      True"
      ]
     },
     "execution_count": 97,
     "metadata": {},
     "output_type": "execute_result"
    }
   ],
   "source": [
    "df.head()"
   ]
  },
  {
   "cell_type": "code",
   "execution_count": 98,
   "metadata": {},
   "outputs": [
    {
     "data": {
      "text/plain": [
       "(500, 4)"
      ]
     },
     "execution_count": 98,
     "metadata": {},
     "output_type": "execute_result"
    }
   ],
   "source": [
    "df.shape"
   ]
  },
  {
   "cell_type": "code",
   "execution_count": 99,
   "metadata": {},
   "outputs": [
    {
     "data": {
      "text/plain": [
       "student_id     int64\n",
       "gender        object\n",
       "major         object\n",
       "admitted        bool\n",
       "dtype: object"
      ]
     },
     "execution_count": 99,
     "metadata": {},
     "output_type": "execute_result"
    }
   ],
   "source": [
    "df.dtypes"
   ]
  },
  {
   "cell_type": "code",
   "execution_count": 100,
   "metadata": {},
   "outputs": [
    {
     "name": "stdout",
     "output_type": "stream",
     "text": [
      "<class 'pandas.core.frame.DataFrame'>\n",
      "RangeIndex: 500 entries, 0 to 499\n",
      "Data columns (total 4 columns):\n",
      "student_id    500 non-null int64\n",
      "gender        500 non-null object\n",
      "major         500 non-null object\n",
      "admitted      500 non-null bool\n",
      "dtypes: bool(1), int64(1), object(2)\n",
      "memory usage: 12.3+ KB\n"
     ]
    }
   ],
   "source": [
    "df.info()"
   ]
  },
  {
   "cell_type": "code",
   "execution_count": null,
   "metadata": {},
   "outputs": [],
   "source": []
  },
  {
   "cell_type": "markdown",
   "metadata": {},
   "source": [
    "### Proportion and admission rate for each gender"
   ]
  },
  {
   "cell_type": "code",
   "execution_count": 101,
   "metadata": {},
   "outputs": [],
   "source": [
    "# Proportion of students that are female\n",
    "total_student = df.gender.count()"
   ]
  },
  {
   "cell_type": "code",
   "execution_count": 102,
   "metadata": {},
   "outputs": [
    {
     "name": "stdout",
     "output_type": "stream",
     "text": [
      "Proportion of female students: 51.4%\n"
     ]
    }
   ],
   "source": [
    "df_fm = df.query('gender == \"female\"')\n",
    "total_fm = df_fm.gender.count()\n",
    "fm_prop = round((total_fm/total_student)*100,2)\n",
    "print(f'Proportion of female students: {fm_prop}%')"
   ]
  },
  {
   "cell_type": "code",
   "execution_count": 103,
   "metadata": {},
   "outputs": [
    {
     "name": "stdout",
     "output_type": "stream",
     "text": [
      "Proportion of male students: 49.0%\n"
     ]
    }
   ],
   "source": [
    "# Proportion of students that are male\n",
    "df_m = df.query('gender== \"male\"')\n",
    "total_m = df_m.gender.count()\n",
    "m_prop =round((total_m/total_student)*100)\n",
    "print(f'Proportion of male students: {m_prop}%')"
   ]
  },
  {
   "cell_type": "code",
   "execution_count": 104,
   "metadata": {},
   "outputs": [
    {
     "name": "stdout",
     "output_type": "stream",
     "text": [
      "Admission rate of female students: 28.79%\n"
     ]
    }
   ],
   "source": [
    "# Admission rate for females\n",
    "df_fm_adm = df_fm[df_fm.admitted==True]\n",
    "total_fm_adm = df_fm_adm.gender.count()\n",
    "fm_adm_rate = round((total_fm_adm/total_fm)*100,2)\n",
    "print(f'Admission rate of female students: {fm_adm_rate}%')"
   ]
  },
  {
   "cell_type": "code",
   "execution_count": 105,
   "metadata": {},
   "outputs": [
    {
     "name": "stdout",
     "output_type": "stream",
     "text": [
      "Admission rate of male students: 48.56%\n"
     ]
    }
   ],
   "source": [
    "# Admission rate for males\n",
    "df_m_adm = df_m[df_m.admitted==True]\n",
    "total_m_adm = df_m_adm.gender.count()\n",
    "m_adm_rate = round((total_m_adm/total_m)*100,2)\n",
    "print(f'Admission rate of male students: {m_adm_rate}%')"
   ]
  },
  {
   "cell_type": "markdown",
   "metadata": {},
   "source": [
    "### Proportion and admission rate for physics majors of each gender"
   ]
  },
  {
   "cell_type": "code",
   "execution_count": 106,
   "metadata": {},
   "outputs": [
    {
     "name": "stdout",
     "output_type": "stream",
     "text": [
      "Proportion of female offering physics: 12.06%\n"
     ]
    }
   ],
   "source": [
    "# What proportion of female students are majoring in physics?\n",
    "fm_phy = df_fm.query('major==\"Physics\"')\n",
    "total_fm_phy = fm_phy.major.count()\n",
    "fm_phy_prop = round((total_fm_phy/total_fm)*100,2)\n",
    "print(f'Proportion of female offering physics: {fm_phy_prop}%')"
   ]
  },
  {
   "cell_type": "code",
   "execution_count": 107,
   "metadata": {},
   "outputs": [
    {
     "name": "stdout",
     "output_type": "stream",
     "text": [
      "Proportion of male offering physics: 92.59%\n"
     ]
    }
   ],
   "source": [
    "# What proportion of male students are majoring in physics?\n",
    "m_phy  = df_m.query('major == \"Physics\"')\n",
    "total_m_phy = m_phy.major.count()\n",
    "m_phy_prop = round((total_m_phy/total_m)*100,2)\n",
    "print(f'Proportion of male offering physics: {m_phy_prop}%')"
   ]
  },
  {
   "cell_type": "code",
   "execution_count": 108,
   "metadata": {},
   "outputs": [
    {
     "name": "stdout",
     "output_type": "stream",
     "text": [
      "Admission rate of female offering physics: 74.19%\n"
     ]
    }
   ],
   "source": [
    "# Admission rate for female physics majors\n",
    "total_fm_phy_adm = fm_phy[fm_phy.admitted==True].count()[0]\n",
    "fm_phy_adm_rate = round((total_fm_phy_adm/total_fm_phy)*100,2)\n",
    "print(f'Admission rate of female offering physics: {fm_phy_adm_rate}%')"
   ]
  },
  {
   "cell_type": "code",
   "execution_count": 109,
   "metadata": {},
   "outputs": [
    {
     "name": "stdout",
     "output_type": "stream",
     "text": [
      "Admission rate of female offering physics: 51.56%\n"
     ]
    }
   ],
   "source": [
    "# Admission rate for male physics majors\n",
    "\n",
    "        # wrong calculation\n",
    "# m_phy_adm = df_m_adm.query('major==\"Physics\"')\n",
    "# m_phy_adm_rate=(m_phy_adm.count()[0]/total_m_adm)*100\n",
    "# m_phy_adm_rate\n",
    "\n",
    "# correct calculation\n",
    "\n",
    "total_m_phy_adm = m_phy[m_phy.admitted==True].count()[0]\n",
    "m_phy_adm_rate = round((total_m_phy_adm/total_m_phy)*100,2)\n",
    "print(f'Admission rate of female offering physics: {m_phy_adm_rate}%')"
   ]
  },
  {
   "cell_type": "markdown",
   "metadata": {},
   "source": [
    "### Proportion and admission rate for chemistry majors of each gender"
   ]
  },
  {
   "cell_type": "code",
   "execution_count": 110,
   "metadata": {},
   "outputs": [
    {
     "name": "stdout",
     "output_type": "stream",
     "text": [
      "Proportion of female offering chemistry: 87.94%\n"
     ]
    }
   ],
   "source": [
    "# What proportion of female students are majoring in chemistry?\n",
    "fm_chm = df_fm.query('major==\"Chemistry\"')\n",
    "total_fm_chm = fm_chm.major.count()\n",
    "fm_chm_prop = round((total_fm_chm/total_fm)*100,2)\n",
    "print(f'Proportion of female offering chemistry: {fm_chm_prop}%')"
   ]
  },
  {
   "cell_type": "code",
   "execution_count": 111,
   "metadata": {},
   "outputs": [
    {
     "name": "stdout",
     "output_type": "stream",
     "text": [
      "Proportion of male offering chemistry: 7.41%\n"
     ]
    }
   ],
   "source": [
    "# What proportion of male students are majoring in chemistry?\n",
    "m_chm = df_m.query('major == \"Chemistry\"')\n",
    "total_m_chm = m_chm.major.count()\n",
    "m_chm_prop = round((total_m_chm/total_m)*100,2)\n",
    "print(f'Proportion of male offering chemistry: {m_chm_prop}%')"
   ]
  },
  {
   "cell_type": "code",
   "execution_count": 112,
   "metadata": {},
   "outputs": [
    {
     "name": "stdout",
     "output_type": "stream",
     "text": [
      "Admission rate of female offering chemistry: 22.57%\n"
     ]
    }
   ],
   "source": [
    "# Admission rate for female chemistry majors\n",
    "\n",
    "# fm_chm_adm = df_fm_adm.query('major==\"Chemistry\"')\n",
    "# fm_chm_adm_rate = (fm_chm_adm.major.count()/total_fm_adm)*100\n",
    "# fm_chm_adm_rate\n",
    "\n",
    "\n",
    "fm_chm_adm = fm_chm[fm_chm.admitted==True].count()[0]\n",
    "fm_chm_adm_rate = round((fm_chm_adm/total_fm_chm)*100,2)\n",
    "print(f'Admission rate of female offering chemistry: {fm_chm_adm_rate}%')"
   ]
  },
  {
   "cell_type": "code",
   "execution_count": 113,
   "metadata": {},
   "outputs": [
    {
     "name": "stdout",
     "output_type": "stream",
     "text": [
      "Admission rate of female offering chemistry: 11.11%\n"
     ]
    }
   ],
   "source": [
    "# Admission rate for male chemistry majors\n",
    "m_chm_adm = m_chm[m_chm.admitted==True].count()[0]\n",
    "m_chm_adm_rate = round((m_chm_adm/total_m_chm)*100,2)\n",
    "print(f'Admission rate of female offering chemistry: {m_chm_adm_rate}%')"
   ]
  },
  {
   "cell_type": "markdown",
   "metadata": {},
   "source": [
    "### Admission rate for each major"
   ]
  },
  {
   "cell_type": "code",
   "execution_count": 114,
   "metadata": {},
   "outputs": [
    {
     "data": {
      "text/plain": [
       "192"
      ]
     },
     "execution_count": 114,
     "metadata": {},
     "output_type": "execute_result"
    }
   ],
   "source": [
    "df_admitted = df[df.admitted==True]\n",
    "total_df_admitted = df_admitted.count()[0]\n",
    "total_df_admitted"
   ]
  },
  {
   "cell_type": "code",
   "execution_count": 115,
   "metadata": {},
   "outputs": [
    {
     "name": "stdout",
     "output_type": "stream",
     "text": [
      "Admission rate for physics majors: 72.4%\n"
     ]
    }
   ],
   "source": [
    "# Admission rate for physics majors\n",
    "adm_phy = df[df.admitted==True].query('major==\"Physics\"')\n",
    "total_adm_phy = adm_phy.count()[0]\n",
    "adm_phy_rate = round((total_adm_phy/total_df_admitted)*100,2)\n",
    "print(f'Admission rate for physics majors: {adm_phy_rate}%')"
   ]
  },
  {
   "cell_type": "code",
   "execution_count": 116,
   "metadata": {},
   "outputs": [
    {
     "name": "stdout",
     "output_type": "stream",
     "text": [
      "Admission rate for chemistry majors: 27.6%\n"
     ]
    }
   ],
   "source": [
    "# Admission rate for chemistry majors\n",
    "adm_chm = df[df.admitted == True].query('major==\"Chemistry\"')\n",
    "total_adm_chm = adm_chm.count()[0]\n",
    "adm_chm_rate = round((total_adm_chm/total_df_admitted)*100,2)\n",
    "print(f'Admission rate for chemistry majors: {adm_chm_rate}%')"
   ]
  },
  {
   "cell_type": "code",
   "execution_count": null,
   "metadata": {},
   "outputs": [],
   "source": []
  }
 ],
 "metadata": {
  "kernelspec": {
   "display_name": "Python 3",
   "language": "python",
   "name": "python3"
  },
  "language_info": {
   "codemirror_mode": {
    "name": "ipython",
    "version": 3
   },
   "file_extension": ".py",
   "mimetype": "text/x-python",
   "name": "python",
   "nbconvert_exporter": "python",
   "pygments_lexer": "ipython3",
   "version": "3.6.3"
  }
 },
 "nbformat": 4,
 "nbformat_minor": 2
}
